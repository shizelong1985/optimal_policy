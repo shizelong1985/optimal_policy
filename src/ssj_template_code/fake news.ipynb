{
 "cells": [
  {
   "cell_type": "code",
   "execution_count": 1,
   "metadata": {},
   "outputs": [],
   "source": [
    "import numpy as np\n",
    "import numba\n",
    "import matplotlib.pyplot as plt\n",
    "from standard_incomplete_markets import (example_calibration, backward_iteration,\n",
    "                                         get_lottery, forward_iteration, steady_state, \n",
    "                                         policy_impulse_response, impulse_response)"
   ]
  },
  {
   "cell_type": "code",
   "execution_count": 2,
   "metadata": {},
   "outputs": [],
   "source": [
    "ss = steady_state(**example_calibration())"
   ]
  },
  {
   "cell_type": "markdown",
   "metadata": {},
   "source": [
    "Note: this code does not work for shocks to the Markov transition matrix `Pi` or the grid `a_grid`."
   ]
  },
  {
   "cell_type": "markdown",
   "metadata": {},
   "source": [
    "# Step 1a: iterate backward from a shock at $T-1$ to get the impact on policy\n",
    "All that matters for the policy function is the distance to a shock—so we can get the impact of a policy at every distance up through $T-1$ by doing a single backward iteration starting from $T-1$.\n",
    "\n",
    "We'll implement this using our already-existing `policy_impulse_response` function, by feeding in the path for the shocked variable that has its steady-state value everywhere except $T-1$. At $T-1$, we'll multiply the shock by some small $h$, and add it to the steady state.\n",
    "\n",
    "For scalar household inputs like `r`, it's natural to look at the effect of a unit shock. But some vector household inputs like `y`, there's no clear \"unit\" shock, which is why we need to allow for general vector shocks. (Formally, we're going to end up taking the \"directional\" or \"Gateaux\" derivative with respect to these shocks.)"
   ]
  },
  {
   "cell_type": "code",
   "execution_count": 3,
   "metadata": {},
   "outputs": [],
   "source": [
    "def terminal_shock_results(ss, T, i, shock=1, h=1E-4):\n",
    "    \"\"\"Get first-order individual policy response to perturbation\n",
    "    'shock' to 'i' at all horizons 0, ... , T-1\"\"\"\n",
    "    \n",
    "    # make sure steady-state value is array, add leading dimension\n",
    "    ss_val = np.array(ss[i])[np.newaxis, ...]\n",
    "        \n",
    "    # make path with ss repeated on leading dimension for T periods\n",
    "    shocked_path = np.repeat(ss_val, T, axis=0)\n",
    "        \n",
    "    # now add h times shock to input at T-1\n",
    "    shocked_path[T-1] += h * shock\n",
    "    \n",
    "    # now use this shocked path as input, get a and c\n",
    "    _, a, c = policy_impulse_response(ss, T, **{i: shocked_path})\n",
    "    \n",
    "    # right now, a[T-1] is 0 periods to shock, and a[0] is T-1 periods, etc.\n",
    "    # switch order so that a[0] is 0 periods to shock, etc.\n",
    "    return a[::-1], c[::-1]"
   ]
  },
  {
   "cell_type": "markdown",
   "metadata": {},
   "source": [
    "# Step 1b: compute one-period-ahead distributions from shocked asset policies\n",
    "Now that we have a $T\\times n_s \\times n_a$ array `a` giving the effect of the shock on the asset policy on the grid at each horizon, we want to find the effect of this changed asset policy on the one-period-ahead distribution.\n",
    "\n",
    "This is simple: we'll just use the forward iteration, starting from the steady-state distribution, in each period."
   ]
  },
  {
   "cell_type": "code",
   "execution_count": 4,
   "metadata": {},
   "outputs": [],
   "source": [
    "def one_period_ahead(ss, a):\n",
    "    \"\"\"If a[t] is (shocked) asset policy at time t, find distribution\n",
    "    D[t+1], assuming D[t] is the steady-state distribution\"\"\"\n",
    "    \n",
    "    D = np.empty_like(a)\n",
    "    for t in range(D.shape[0]):\n",
    "        a_i, a_pi = get_lottery(a[t], ss['a_grid'])\n",
    "        D[t] = forward_iteration(ss['D'], ss['Pi'], a_i, a_pi)\n",
    "    return D"
   ]
  },
  {
   "cell_type": "markdown",
   "metadata": {},
   "source": [
    "# Step 1c: getting $\\mathcal{Y}_u^{o,i}$ and $\\mathcal{D}_u^i$\n",
    "Following the sequence-space Jacobian paper, we now need to consolidate the information we have into two sets of numbers:\n",
    "\n",
    "- First, for each shock $i$, and each policy $o\\in \\{A, C\\}$, we want to calculate the change in policy when the shock is $u$ periods in the future, aggregated over the original steady-state distribution. This is $\\mathcal{Y}_u^{o,i}$.\n",
    "\n",
    "\n",
    "- Next, for each shock $i$, we want to calculate the change in the next period's distribution caused by the change in policy today when the shock is $u$ periods in the future. This is $\\mathcal{D}_u^i$.\n",
    "\n",
    "\n",
    "We have the ingredients for these, but we've only computed the effect from the shock multiplied by $h$. To turn this into a numerical derivative—the actual first order effect of the shock—we need to subtract the steady state and then divide by $h$.\n",
    "\n",
    "This brings up an important, subtle point: since we never solved for the *exact* steady state, but only iterated backward up to some numerical tolerance, there will be some changes in policy as we iterate backward in `terminal_shock_results` even in the absence of any shock. When we divide by small $h$, these will become larger. To eliminate this source of numerical error, one simple approach is to run `terminal_shock_results` without any shocks (a \"ghost run\"), and subtract all our results by this.\n",
    "\n",
    "This doubles the cost if we're only interested in one shock, but if we are interested in multiple shocks, the cost is spread across them.\n",
    "\n",
    "The function below will take in an entire dictionary of shocks. Normally, the key in the dictionary will be just the input that we're shocking. But for vector inputs like incomes `y`, we might want to shock them in different ways, in which case `y` alone isn't a good name, so the user will have the option of supplying a tuple `(k,i)`, where `k` is the input that's shocked, and `i` is a unique name for the shock."
   ]
  },
  {
   "cell_type": "code",
   "execution_count": 5,
   "metadata": {},
   "outputs": [],
   "source": [
    "def get_curlyYs_curlyDs(ss, T, shocks, h=1E-4):\n",
    "    \"\"\"For each shock 'i' in shocks, find curlyY[o][i] and curlyD[i]\n",
    "    at all horizons up to T\"\"\"\n",
    "    \n",
    "    # start with \"ghost run\": what happens without any shocks?\n",
    "    a_noshock, c_noshock = terminal_shock_results(ss, T, 'r', 0, h)\n",
    "    D_noshock = one_period_ahead(ss, a_noshock)\n",
    "    \n",
    "    # initialize dicts of curlyYs[o][i] and curlyDs[i]\n",
    "    curlyYs = {'A': {}, 'C': {}}\n",
    "    curlyDs = {}\n",
    "    \n",
    "    # iterate through shocks\n",
    "    for ii, shock in shocks.items():\n",
    "        # if tuple, split into name of input k and identifier i of shock\n",
    "        if isinstance(ii, tuple):\n",
    "            k, i = ii\n",
    "        else:\n",
    "            k, i = ii, ii\n",
    "        \n",
    "        a, c = terminal_shock_results(ss, T, k, shock, h)\n",
    "        D = one_period_ahead(ss, a)\n",
    "        \n",
    "        # aggregate using steady-state distribution to get curlyYs\n",
    "        curlyYs['A'][i] = np.sum(ss['D']*(a - a_noshock), axis=(1,2)) / h\n",
    "        curlyYs['C'][i] = np.sum(ss['D']*(c - c_noshock), axis=(1,2)) / h\n",
    "        \n",
    "        curlyDs[i] = (D - D_noshock) / h\n",
    "    \n",
    "    return curlyYs, curlyDs"
   ]
  },
  {
   "cell_type": "markdown",
   "metadata": {},
   "source": [
    "# Step 2: obtain $\\mathcal{E}_u^o$, the expected value of each policy $o$ at horizon $u$\n",
    "The next step in the sequence-space Jacobian paper is to obtain $\\mathcal{E}_u^o$ for each policy $o\\in {A,C}$, which gives the *expected* value of $o$, $u$ periods from now, at each point in today's grid, assuming that *steady-state policies are followed*. For instance, $\\mathcal{E}_3^C$ is an $n_s\\times n_a$ array telling us \"how much do households at each gridpoint today expect to consume in three periods?\"\n",
    "\n",
    "The law of iterated expectations means that these are easy to calculate recursively: if we take the expectation today of what $\\mathcal{E}_{u}^o$ will be tomorrow, we get $\\mathcal{E}_{u+1}^o$.\n",
    "\n",
    "As a quick refresher from `standard_incomplete_markets`, the process of going from the state $(s,a)$ today to the state $(s',a')$ tomorrow has two steps:\n",
    "\n",
    "- First, the household chooses a policy $a'(s,a)$, which we discretize into a \"lottery\" where there is $\\pi(s,a)$ chance we go to asset gridpoint $i(s,a)$, and $1-\\pi(s,a)$ chance we go to asset gridpoint $i(s,a)+1$.\n",
    "\n",
    "\n",
    "- Second, the exogenous state $s$ is updated to $s'$, following probabilities in the Markov transition matrix $\\Pi$.\n",
    "\n",
    "To take expectations conditional on today's state $(s,a)$ for something that we know the value of at each state tomorrow $(s',a')$, we need to perform these steps backward: first, take expectations over $s'$, conditional on $s$, using the Markov matrix $\\Pi$; and second, take expectations over $a'$, conditional on $a$, using the policy lottery.\n",
    "\n",
    "This is implemented in the function below, which takes in an $n_s\\times n_a$ array `X` of values tomorrow, and returns an $n_s \\times n_a$ array `expX` of their expected values today."
   ]
  },
  {
   "cell_type": "code",
   "execution_count": 6,
   "metadata": {},
   "outputs": [],
   "source": [
    "@numba.njit\n",
    "def expectations_iteration(X, Pi, a_i, a_pi):\n",
    "    \"\"\"If X is n_s*n_a array of values at each gridpoint tomorrow,\n",
    "    what is the expected value at each gridpoint today?\"\"\"\n",
    "    \n",
    "    # first, take expectations over all s' using Markov matrix Pi\n",
    "    X = Pi @ X\n",
    "    \n",
    "    # next, take expectations over a' using policy lottery\n",
    "    expX = np.empty_like(X)\n",
    "    for s in range(a_i.shape[0]):\n",
    "        for a in range(a_i.shape[1]):\n",
    "            # expected value today of policy lottery reflects:\n",
    "            # pi(s,a) chance we go to gridpoint i(s,a)\n",
    "            # 1-pi(s,a) chance we go to gridpoint i(s,a)+1\n",
    "            expX[s, a] = (a_pi[s, a] * X[s, a_i[s, a]]\n",
    "                          + (1 - a_pi[s, a]) * X[s, a_i[s, a]+1])\n",
    "            \n",
    "    return expX"
   ]
  },
  {
   "cell_type": "markdown",
   "metadata": {},
   "source": [
    "Now, we'll do a backward iteration to get all $\\mathcal{E}_u^o$ for $u\\in \\{A, C\\}$, by recursively taking expectations, noting that $\\mathcal{E}_0^o$ is simply that actual value of $o$ at each point today."
   ]
  },
  {
   "cell_type": "code",
   "execution_count": 7,
   "metadata": {},
   "outputs": [],
   "source": [
    "def get_curlyEs(ss, T):\n",
    "    \"\"\"For outputs o = A and C, find expected value curlyE^o_u\n",
    "    of o, u periods in the future, at each gridpoint today\"\"\"\n",
    "    \n",
    "    # initialize T*n_s*n_a arrays for curlyE^A and curlyE^C\n",
    "    curlyEs = {'A': np.empty((T,) + ss['a'].shape),\n",
    "               'C': np.empty((T,) + ss['c'].shape)}\n",
    "    \n",
    "    # at u=0, it's just the steady state policy\n",
    "    curlyEs['A'][0] = ss['a']\n",
    "    curlyEs['C'][0] = ss['c']\n",
    "    \n",
    "    # get steady-state policy lottery\n",
    "    a_i, a_pi = get_lottery(ss['a'], ss['a_grid'])\n",
    "    \n",
    "    # recursively take expectations to get curlyE_u for u=1,...,T-1\n",
    "    for o in ('A', 'C'):\n",
    "        for u in range(1, T):\n",
    "            curlyEs[o][u] = expectations_iteration(curlyEs[o][u-1],\n",
    "                                                   ss['Pi'], a_i, a_pi)\n",
    "            \n",
    "    return curlyEs"
   ]
  },
  {
   "cell_type": "markdown",
   "metadata": {},
   "source": [
    "# Step 3: form \"fake news\" matrix $\\mathcal{F}^{o,i}$ for each $o,i$\n",
    "The sequence-space Jacobian paper specifies the \"fake news\" matrix as the following:\n",
    "\n",
    "\n",
    "$$\n",
    "\\mathcal{F}=\\left[\\begin{array}{ccccc}\n",
    "\\mathcal{Y}_{0} & \\mathcal{Y}_{1} & \\mathcal{Y}_{2} & \\cdots & \\mathcal{Y}_{T-1}\\\\\n",
    "\\mathcal{\\mathcal{E}}_{0}'\\mathcal{D}_{0} & \\mathcal{\\mathcal{E}}_{0}'\\mathcal{D}_{1} & \\mathcal{\\mathcal{E}}_{0}'\\mathcal{D}_{2} &  & \\mathcal{\\mathcal{E}}_{0}'\\mathcal{D}_{T-1}\\\\\n",
    "\\mathcal{\\mathcal{E}}_{1}'\\mathcal{D}_{0} & \\mathcal{\\mathcal{E}}_{1}'\\mathcal{D}_{1} & \\mathcal{\\mathcal{E}}_{1}'\\mathcal{D}_{2} &  & \\mathcal{\\mathcal{E}}_{1}'\\mathcal{D}_{T-1}\\\\\n",
    "\\vdots & \\vdots & \\vdots &  & \\vdots\\\\\n",
    "\\mathcal{E}_{T-2}'\\mathcal{D}_{0} & \\mathcal{\\mathcal{E}}_{T-2}'\\mathcal{D}_{1} & \\mathcal{\\mathcal{E}}_{T-2}'\\mathcal{D}_{2} & \\cdots & \\mathcal{\\mathcal{E}}_{T-2}'\\mathcal{D}_{T-1}\n",
    "\\end{array}\\right] \\tag{1}\n",
    "$$\n",
    "\n",
    "(This notation assumes that each $\\mathcal{Y},\\mathcal{D},\\mathcal{E}$ has been flattened into a one-dimensional vector, i.e. a vector of length $n_s\\cdot n_a$ rather than an array with dimensions $n_s \\times n_a$. It also drops superscripts for convenience.)\n",
    "\n",
    "An entry $\\mathcal{F}_{t,s}^{o,i}$ of the fake news matrix, where $s>0$, tells us the aggregate response of $o$ at date $t$ if, at date 0, households \"learn\" that there is going to be a shock $i$ at date $s$, and then at date 1 learn that this shock isn't actually going to happen—that it was \"fake news\". (If $s=0$, then the shock actually happens at date 0.)\n",
    "\n",
    "From (1) we see that $\\mathcal{F}^{o, i}_{0, s} = \\mathcal{Y}^{o,i}_s$. We recall that $\\mathcal{Y}_s^{o,i}$ is the change in $o$, aggregated using the steady-state distribution, when shock $i$ is $s$ periods in the future. That's exactly what happens at date $t=0$: the incoming distribution hasn't changed yet, but households react to news about the future.\n",
    "\n",
    "\n",
    "We also see that for $t>0$, $\\mathcal{F}^{o, i}_{t, s} = (\\mathcal{E}^o_{t-1})'\\mathcal{D}^i_{s}$. Intuitively, since the news shock at 0 was fake, the *only* reason why aggregate $o$ differs at date $t>0$ is that households reacted to the news at date 0, which has persistent effects via the distribution of states. The effect of their reaction to news of the date-$s$ shock on the date-1 distribution is $\\mathcal{D}^i_{s}$, and to get the impact of this distributional change on the date-$t$ aggregate of $o$, we take a dot product with $\\mathcal{E}^o_{t-1}$.\n",
    "\n",
    "We implement (2) as follows. This function takes in $\\mathcal{Y}^{o,i}$ as `curlyY`, $\\mathcal{D}^i$ as `curlyD`, and $\\mathcal{E}^o$ as `curlyE`, for any particular $o,i$."
   ]
  },
  {
   "cell_type": "code",
   "execution_count": 8,
   "metadata": {},
   "outputs": [],
   "source": [
    "@numba.njit\n",
    "def fake_news(curlyY, curlyD, curlyE):\n",
    "    T = len(curlyY)\n",
    "    F = np.empty((T, T))\n",
    "\n",
    "    # F[0, s] = curlyY(0, s)\n",
    "    F[0, :] = curlyY\n",
    "\n",
    "    # F[t, s] = dot product of curlyE(t-1) and curlyD(s) for t>0\n",
    "    # (Numba only does vdot on 1-dim arrays, use ravel() to flatten to 1-dim)\n",
    "    for t in range(1, T):\n",
    "        for s in range(T):\n",
    "            F[t, s] = np.vdot(curlyE[t-1].ravel(), curlyD[s].ravel())\n",
    "\n",
    "    return F"
   ]
  },
  {
   "cell_type": "markdown",
   "metadata": {},
   "source": [
    "# Step 4: convert from fake news to Jacobians\n",
    "The transformation from a fake news matrix $\\mathcal{F}$ to the Jacobian $\\mathcal{J}$ is very simple, following the recursion\n",
    "\n",
    "$$\n",
    "\\mathcal{J}_{t,s}=\n",
    "\\begin{cases}\n",
    "\\mathcal{J}_{t-1,s-1}+\\mathcal{F}_{t,s} & t,s\\geq 1 \\\\\n",
    "\\mathcal{F}_{t,s} & t=0 \\text{ or } s=0\n",
    "\\end{cases} \\tag{2}\n",
    "$$\n",
    "\n",
    "The intuition behind the recursion (2) is that to first order, the only difference between the time-$t$ response to a time-$s$ shock, and the time-$t-1$ response to a time-$s-1$ shock, is that in the former case, we had an extra period of anticipating the shock. The effect of this extra period of anticipation at time $t$ is precisely the effect of the corresponding fake news shock. \n",
    "\n",
    "Implementing (2) is extremely simple:"
   ]
  },
  {
   "cell_type": "code",
   "execution_count": 9,
   "metadata": {},
   "outputs": [],
   "source": [
    "def J_from_F(F):\n",
    "    J = F.copy()\n",
    "    for t in range(1, F.shape[0]):\n",
    "        J[1:, t] += J[:-1, t-1]\n",
    "    return J"
   ]
  },
  {
   "cell_type": "markdown",
   "metadata": {},
   "source": [
    "# Putting it all together\n",
    "We now have four functions, corresponding to the four steps of the fake news algorithm:\n",
    "\n",
    "1. `get_curlyYs_curlyDs` obtains the $\\mathcal{Y}^{o,i}$ and $\\mathcal{D}^i$ for some set of shocks $i$ and $o\\in\\{A,C\\}$.\n",
    "\n",
    "\n",
    "2. `get_curlyEs` obtains the $\\mathcal{E}^o$ for $o\\in \\{A,C\\}$.\n",
    "\n",
    "\n",
    "3. `fake_news` takes in any $\\mathcal{Y}^{o,i}$, $\\mathcal{D}^i$, and $\\mathcal{E}^o$ and returns the fake news matrix $\\mathcal{F}^{o,i}$.\n",
    "\n",
    "\n",
    "4. `J_from_F` takes in any $\\mathcal{F}^{o,i}$ and returns the Jacobian $\\mathcal{J}^{o,i}$.\n",
    "\n",
    "\n",
    "We now can combine these into a single function that, for a given steady state and set of shocks $i$, produces all Jacobians."
   ]
  },
  {
   "cell_type": "code",
   "execution_count": 10,
   "metadata": {},
   "outputs": [],
   "source": [
    "def jacobians(ss, T, shocks):\n",
    "    curlyYs, curlyDs = get_curlyYs_curlyDs(ss, T, shocks)\n",
    "    curlyEs = get_curlyEs(ss, T)\n",
    "    \n",
    "    Js = {'A': {}, 'C': {}}\n",
    "    for o in Js:\n",
    "        for i in curlyDs:\n",
    "            F = fake_news(curlyYs[o][i], curlyDs[i], curlyEs[o])\n",
    "            Js[o][i] = J_from_F(F)\n",
    "            \n",
    "    return Js"
   ]
  },
  {
   "cell_type": "markdown",
   "metadata": {},
   "source": [
    "# Applying to an example and verifying"
   ]
  },
  {
   "cell_type": "code",
   "execution_count": 14,
   "metadata": {},
   "outputs": [],
   "source": [
    "T = 300\n",
    "Js = jacobians(ss, T, {'r': 1,\n",
    "                       ('y', 'y_prop'): ss['y'],\n",
    "                       ('y', 'y_equal'): 1})"
   ]
  },
  {
   "cell_type": "markdown",
   "metadata": {},
   "source": [
    "Let's check out the fit for `r` first:"
   ]
  },
  {
   "cell_type": "code",
   "execution_count": 33,
   "metadata": {},
   "outputs": [],
   "source": [
    "h = 0.001\n",
    "times = [0, 10, 20]\n",
    "paths = np.empty((T, len(times)))\n",
    "for i_s, s in enumerate(times):\n",
    "    paths[:, i_s] = impulse_response(ss, r = ss['r'] + h*(np.arange(T)==s))['C'] - ss['C']"
   ]
  },
  {
   "cell_type": "code",
   "execution_count": 34,
   "metadata": {
    "scrolled": true
   },
   "outputs": [
    {
     "data": {
      "image/png": "[encoded data removed]",
      "text/plain": [
       "<Figure size 432x288 with 1 Axes>"
      ]
     },
     "metadata": {
      "needs_background": "light"
     },
     "output_type": "display_data"
    }
   ],
   "source": [
    "plt.plot(h*Js['C']['r'][:30, times])\n",
    "plt.plot(paths[:30]);"
   ]
  },
  {
   "cell_type": "markdown",
   "metadata": {},
   "source": [
    "Beautiful!!!!!"
   ]
  },
  {
   "cell_type": "markdown",
   "metadata": {},
   "source": [
    "What about a proportional shock to `y`?"
   ]
  },
  {
   "cell_type": "code",
   "execution_count": 35,
   "metadata": {},
   "outputs": [],
   "source": [
    "for i_s, s in enumerate(times):\n",
    "    paths[:, i_s] = impulse_response(ss,\n",
    "                        y = (1+ h*(np.arange(T)==s))[:, np.newaxis]*ss['y'])['C'] - ss['C']"
   ]
  },
  {
   "cell_type": "code",
   "execution_count": 36,
   "metadata": {},
   "outputs": [
    {
     "data": {
      "image/png": "[encoded data removed]",
      "text/plain": [
       "<Figure size 432x288 with 1 Axes>"
      ]
     },
     "metadata": {
      "needs_background": "light"
     },
     "output_type": "display_data"
    }
   ],
   "source": [
    "plt.plot(h*Js['C']['y_prop'][:30, times])\n",
    "plt.plot(paths[:30]);"
   ]
  },
  {
   "cell_type": "markdown",
   "metadata": {},
   "source": [
    "What about a lump-sum, equal shock to `y`?"
   ]
  },
  {
   "cell_type": "code",
   "execution_count": 37,
   "metadata": {},
   "outputs": [],
   "source": [
    "for i_s, s in enumerate(times):\n",
    "    paths[:, i_s] = impulse_response(ss,\n",
    "                        y = h*(np.arange(T)==s)[:, np.newaxis] + ss['y'])['C'] - ss['C']"
   ]
  },
  {
   "cell_type": "code",
   "execution_count": 38,
   "metadata": {},
   "outputs": [
    {
     "data": {
      "image/png": "[encoded data removed]",
      "text/plain": [
       "<Figure size 432x288 with 1 Axes>"
      ]
     },
     "metadata": {
      "needs_background": "light"
     },
     "output_type": "display_data"
    }
   ],
   "source": [
    "plt.plot(h*Js['C']['y_equal'][:30, times])\n",
    "plt.plot(paths[:30]);"
   ]
  }
 ],
 "metadata": {
  "kernelspec": {
   "display_name": "Python 3",
   "language": "python",
   "name": "python3"
  },
  "language_info": {
   "codemirror_mode": {
    "name": "ipython",
    "version": 3
   },
   "file_extension": ".py",
   "mimetype": "text/x-python",
   "name": "python",
   "nbconvert_exporter": "python",
   "pygments_lexer": "ipython3",
   "version": "3.7.4"
  }
 },
 "nbformat": 4,
 "nbformat_minor": 4
}
