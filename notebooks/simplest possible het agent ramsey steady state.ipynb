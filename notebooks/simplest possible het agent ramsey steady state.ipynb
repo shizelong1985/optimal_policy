{
 "cells": [
  {
   "cell_type": "code",
   "execution_count": 1,
   "metadata": {},
   "outputs": [],
   "source": [
    "import numpy as np\n",
    "import matplotlib.pyplot as plt\n",
    "from sequence_jacobian.krusell_smith import household\n",
    "from sequence_jacobian import utils\n",
    "from scipy.optimize import brentq"
   ]
  },
  {
   "cell_type": "code",
   "execution_count": 2,
   "metadata": {},
   "outputs": [
    {
     "data": {
      "text/plain": [
       "{'Pi', 'a_grid', 'beta', 'e_grid', 'eis', 'r', 'w'}"
      ]
     },
     "execution_count": 2,
     "metadata": {},
     "output_type": "execute_result"
    }
   ],
   "source": [
    "household.inputs"
   ]
  },
  {
   "cell_type": "code",
   "execution_count": 3,
   "metadata": {},
   "outputs": [],
   "source": [
    "e, pi, Pi = utils.markov_rouwenhorst(0.9, 0.9)\n",
    "a_grid = utils.agrid(10_000, 300)"
   ]
  },
  {
   "cell_type": "code",
   "execution_count": 56,
   "metadata": {},
   "outputs": [],
   "source": [
    "calib = dict(Pi=Pi, e_grid=e, a_grid=a_grid, eis=0.3,\n",
    "             beta=0.95)\n",
    "calib['eis'] = 0.2 # modify"
   ]
  },
  {
   "cell_type": "code",
   "execution_count": 57,
   "metadata": {},
   "outputs": [],
   "source": [
    "beta=calib['beta']"
   ]
  },
  {
   "cell_type": "markdown",
   "metadata": {},
   "source": [
    "# Part 1: given steady state object, solve for all terms in equation characterizing optimum"
   ]
  },
  {
   "cell_type": "markdown",
   "metadata": {},
   "source": [
    "Equation that characterizes optimum is:\n",
    "\n",
    "$$\\frac{\\lambda^{hh,e}}{\\lambda^{hh,b_{-1}}}=\\frac{1+\\left(1-\\beta(1+r)\\right)\\mathcal{E}_{b,\\tau}}{1-\\left(1-\\beta(1+r)\\right)\\beta^{-1}\\mathcal{E}_{\\log b,r}}$$\n",
    "\n",
    "where $\\lambda^{hh,s}$ is endowment-weighted average marginal utility, $\\lambda^{hh,b_{-1}}$ is incoming asset-weighted average marginal utility, $\\mathcal{E}_{b,\\tau}$ is the (two-sided) asymptotic response of aggregate household $b$ to $\\tau$, aggregated with $\\beta$ discounting, and $\\mathcal{E}_{\\log b,r}$ is the asymptotic response of aggregate $\\log b$ to $r$, aggregated with $\\beta$ discounting."
   ]
  },
  {
   "cell_type": "markdown",
   "metadata": {},
   "source": [
    "First, let's write function to solve for the $\\mathcal{E}$s."
   ]
  },
  {
   "cell_type": "code",
   "execution_count": 58,
   "metadata": {},
   "outputs": [],
   "source": [
    "def ajac(ss, o, i, T=100):\n",
    "    return household.ajac(ss, T, [i], [o], Tpost=T)[o.upper()][i].v "
   ]
  },
  {
   "cell_type": "code",
   "execution_count": 59,
   "metadata": {},
   "outputs": [],
   "source": [
    "def curlyE(ss, o, i, T=100):\n",
    "    v = ajac(ss, o, i, T)\n",
    "    return v @ (ss['beta']**(np.arange(2*T-1)-(T-1)))"
   ]
  },
  {
   "cell_type": "markdown",
   "metadata": {},
   "source": [
    "Now write a function that gets this equation and all its constituents, given the ss. It's probably actually best to cross-multiply so that we don't get ratios that might blow up."
   ]
  },
  {
   "cell_type": "code",
   "execution_count": 60,
   "metadata": {},
   "outputs": [],
   "source": [
    "def stats(ss, T=100):\n",
    "    E_b_tau = -curlyE(ss, 'a', 'w', T)\n",
    "    E_logb_r = curlyE(ss, 'a', 'r', T) / ss['A']\n",
    "    \n",
    "    uc = ss['Va'] / (1+ss['r'])\n",
    "    lambda_hh_e = np.einsum('sb,s,sb', uc, ss['e_grid'], ss['D'])\n",
    "    lambda_hh_b = np.einsum('sb,b,sb', uc, ss['a_grid'], ss['D']) / ss['A']\n",
    "    \n",
    "    spread = 1 - ss['beta']*(1+ss['r'])\n",
    "    \n",
    "    left = lambda_hh_e * (1 - spread/ss['beta']*E_logb_r)\n",
    "    right = lambda_hh_b * (1 + spread*E_b_tau)\n",
    "  \n",
    "    return left - right, E_b_tau, E_logb_r, lambda_hh_e, lambda_hh_b"
   ]
  },
  {
   "cell_type": "markdown",
   "metadata": {},
   "source": [
    "# Part 2: write map from r and tau to asset market clearing and optimization error, then solve\n",
    "Actually, I'm going to update this and no longer iterate over `tau`, because due to scaling it's irrelevant..."
   ]
  },
  {
   "cell_type": "code",
   "execution_count": 61,
   "metadata": {},
   "outputs": [],
   "source": [
    "def get_ss(r, tau):\n",
    "    return household.ss(**calib, r=r, w=1-tau, Va=1/((1-tau)*e[:, np.newaxis]+0.1*a_grid))"
   ]
  },
  {
   "cell_type": "code",
   "execution_count": 63,
   "metadata": {},
   "outputs": [],
   "source": [
    "r = brentq(lambda r: stats(get_ss(r, 0))[0], -0.05, 1/calib['beta']-1-0.002)"
   ]
  },
  {
   "cell_type": "code",
   "execution_count": 64,
   "metadata": {},
   "outputs": [],
   "source": [
    "ss = get_ss(r, 0)\n",
    "rel_A = ss['A']\n",
    "tau = r*rel_A / (1+r*rel_A)"
   ]
  },
  {
   "cell_type": "code",
   "execution_count": 65,
   "metadata": {},
   "outputs": [
    {
     "data": {
      "text/plain": [
       "(-0.02321815135367408, -0.3996974671818631)"
      ]
     },
     "execution_count": 65,
     "metadata": {},
     "output_type": "execute_result"
    }
   ],
   "source": [
    "r, tau"
   ]
  },
  {
   "cell_type": "code",
   "execution_count": 66,
   "metadata": {},
   "outputs": [
    {
     "data": {
      "text/plain": [
       "0.05263157894736836"
      ]
     },
     "execution_count": 66,
     "metadata": {},
     "output_type": "execute_result"
    }
   ],
   "source": [
    "1/ss['beta']-1"
   ]
  },
  {
   "cell_type": "code",
   "execution_count": 67,
   "metadata": {},
   "outputs": [],
   "source": [
    "_, E_b_tau, E_logb_r, lambda_hh_e, lambda_hh_b = stats(ss)"
   ]
  },
  {
   "cell_type": "code",
   "execution_count": 68,
   "metadata": {
    "scrolled": true
   },
   "outputs": [
    {
     "data": {
      "text/plain": [
       "30.985941300999766"
      ]
     },
     "execution_count": 68,
     "metadata": {},
     "output_type": "execute_result"
    }
   ],
   "source": [
    "E_b_tau"
   ]
  },
  {
   "cell_type": "code",
   "execution_count": 69,
   "metadata": {},
   "outputs": [
    {
     "data": {
      "text/plain": [
       "-2.9884172980522745"
      ]
     },
     "execution_count": 69,
     "metadata": {},
     "output_type": "execute_result"
    }
   ],
   "source": [
    "E_logb_r"
   ]
  },
  {
   "cell_type": "code",
   "execution_count": 70,
   "metadata": {},
   "outputs": [
    {
     "data": {
      "text/plain": [
       "2.635394865125411"
      ]
     },
     "execution_count": 70,
     "metadata": {},
     "output_type": "execute_result"
    }
   ],
   "source": [
    "lambda_hh_e / lambda_hh_b"
   ]
  },
  {
   "cell_type": "markdown",
   "metadata": {},
   "source": [
    "Okay, interesting! So what we get is a *ton* of government debt, at 13 times income, so that almost two thirds of income needs to be taxed away to pay the debt.\n",
    "\n",
    "Also interestingly (and I didn't really see this coming, nor do I understand it), the impact of taxes on debt, the $\\mathcal{E}_{b,\\tau}$, is just as big a deal as the impact of real interest rates, $\\mathcal{E}_{\\log b, r}$. This is because we save up to pay taxes?\n",
    "\n",
    "I'm surprised that the difference in average marginal utility between income-weighted and bond-weighted is as small as it is. Perhaps that's because everyone is so satiated with bond wealth?"
   ]
  },
  {
   "cell_type": "markdown",
   "metadata": {},
   "source": [
    "# What do the asymptotic jacobians look like?"
   ]
  },
  {
   "cell_type": "code",
   "execution_count": 71,
   "metadata": {},
   "outputs": [],
   "source": [
    "T = 300"
   ]
  },
  {
   "cell_type": "markdown",
   "metadata": {},
   "source": [
    "First the effect of an $r$ shock."
   ]
  },
  {
   "cell_type": "code",
   "execution_count": 72,
   "metadata": {},
   "outputs": [
    {
     "data": {
      "image/png": "[encoded data removed]",
      "text/plain": [
       "<Figure size 432x288 with 1 Axes>"
      ]
     },
     "metadata": {
      "needs_background": "light"
     },
     "output_type": "display_data"
    }
   ],
   "source": [
    "plt.plot(np.arange(-T+1, T), ajac(ss, 'a', 'r', T));"
   ]
  },
  {
   "cell_type": "markdown",
   "metadata": {},
   "source": [
    "Use discounting thing."
   ]
  },
  {
   "cell_type": "code",
   "execution_count": 73,
   "metadata": {
    "scrolled": true
   },
   "outputs": [
    {
     "data": {
      "image/png": "[encoded data removed]",
      "text/plain": [
       "<Figure size 432x288 with 1 Axes>"
      ]
     },
     "metadata": {
      "needs_background": "light"
     },
     "output_type": "display_data"
    }
   ],
   "source": [
    "plt.plot(np.arange(-T+1, T), ajac(ss, 'a', 'r', T)*(ss['beta']**(np.arange(2*T-1)-(T-1))));"
   ]
  },
  {
   "cell_type": "markdown",
   "metadata": {},
   "source": [
    "What about the effect of taxes (inverse of wages)?"
   ]
  },
  {
   "cell_type": "code",
   "execution_count": 74,
   "metadata": {},
   "outputs": [
    {
     "data": {
      "image/png": "[encoded data removed]",
      "text/plain": [
       "<Figure size 432x288 with 1 Axes>"
      ]
     },
     "metadata": {
      "needs_background": "light"
     },
     "output_type": "display_data"
    }
   ],
   "source": [
    "plt.plot(np.arange(-T+1, T), -ajac(ss, 'a', 'w', T));"
   ]
  },
  {
   "cell_type": "markdown",
   "metadata": {},
   "source": [
    "Now with the discounting thing added."
   ]
  },
  {
   "cell_type": "code",
   "execution_count": 75,
   "metadata": {
    "scrolled": false
   },
   "outputs": [
    {
     "data": {
      "image/png": "[encoded data removed]",
      "text/plain": [
       "<Figure size 432x288 with 1 Axes>"
      ]
     },
     "metadata": {
      "needs_background": "light"
     },
     "output_type": "display_data"
    }
   ],
   "source": [
    "plt.plot(np.arange(-T+1, T), -ajac(ss, 'a', 'w', T)*(ss['beta']**(np.arange(2*T-1)-(T-1))));"
   ]
  },
  {
   "cell_type": "markdown",
   "metadata": {},
   "source": [
    "# Coming back and exploring a little bit"
   ]
  },
  {
   "cell_type": "markdown",
   "metadata": {},
   "source": [
    "Let's plot things with respect to $r$ to see what happens in light of our expression!"
   ]
  },
  {
   "cell_type": "code",
   "execution_count": 76,
   "metadata": {},
   "outputs": [],
   "source": [
    "def stuff(r, eis):\n",
    "    calib2 = {**calib, 'eis': eis}\n",
    "    ss = household.ss(**calib2, r=r, w=1, Va=1/(e[:, np.newaxis]+0.1*a_grid))\n",
    "    return (ss['A'], *stats(ss)[1:])"
   ]
  },
  {
   "cell_type": "code",
   "execution_count": 85,
   "metadata": {},
   "outputs": [],
   "source": [
    "rs = np.array([-0.05, -0.03, -0.01, 0, 0.01, 0.02, 0.03, 0.04, 0.045, 0.048, 0.05])"
   ]
  },
  {
   "cell_type": "code",
   "execution_count": 92,
   "metadata": {},
   "outputs": [],
   "source": [
    "eis = 1"
   ]
  },
  {
   "cell_type": "code",
   "execution_count": 93,
   "metadata": {},
   "outputs": [],
   "source": [
    "As, E_b_taus, E_logb_rs, lambda_hh_es, lambda_hh_bs = map(np.array,zip(*[stuff(r, eis) for r in rs]))"
   ]
  },
  {
   "cell_type": "code",
   "execution_count": 94,
   "metadata": {},
   "outputs": [
    {
     "data": {
      "image/png": "[encoded data removed]",
      "text/plain": [
       "<Figure size 432x288 with 1 Axes>"
      ]
     },
     "metadata": {
      "needs_background": "light"
     },
     "output_type": "display_data"
    }
   ],
   "source": [
    "plt.plot(rs, E_b_taus, label=r'$\\mathcal{E}_{b,\\tau}$')\n",
    "plt.plot(rs, E_logb_rs, label=r'$\\mathcal{E}_{\\log b, r}$')\n",
    "plt.legend();"
   ]
  },
  {
   "cell_type": "code",
   "execution_count": 95,
   "metadata": {},
   "outputs": [
    {
     "data": {
      "text/plain": [
       "array([-1.00063562, -0.96586915, -0.89079503, -0.82684217, -0.75372838,\n",
       "       -0.68324368, -0.64374211, -0.71986558, -0.9114187 , -1.21106939,\n",
       "       -1.68842897])"
      ]
     },
     "execution_count": 95,
     "metadata": {},
     "output_type": "execute_result"
    }
   ],
   "source": [
    "rightside = (1+(1-beta*(1+r))*E_b_taus)/(1-(1-beta*(1+r))/beta*E_logb_rs)\n",
    "rightside"
   ]
  },
  {
   "cell_type": "code",
   "execution_count": 96,
   "metadata": {},
   "outputs": [
    {
     "data": {
      "text/plain": [
       "array([1.94283137, 1.76231553, 1.60131241, 1.53040916, 1.4662264 ,\n",
       "       1.40850578, 1.35912711, 1.32106274, 1.31069069, 1.31018933,\n",
       "       1.31565858])"
      ]
     },
     "execution_count": 96,
     "metadata": {},
     "output_type": "execute_result"
    }
   ],
   "source": [
    "leftside = lambda_hh_es / lambda_hh_bs\n",
    "leftside"
   ]
  },
  {
   "cell_type": "code",
   "execution_count": 97,
   "metadata": {},
   "outputs": [
    {
     "data": {
      "image/png": "[encoded data removed]",
      "text/plain": [
       "<Figure size 432x288 with 1 Axes>"
      ]
     },
     "metadata": {
      "needs_background": "light"
     },
     "output_type": "display_data"
    }
   ],
   "source": [
    "plt.plot(rs, leftside, label='left: ratio of lambdas')\n",
    "plt.plot(rs, rightside, label='right: ratio from Es')\n",
    "plt.legend();"
   ]
  },
  {
   "cell_type": "markdown",
   "metadata": {},
   "source": [
    "So basically, the ratio on the right goes up as the response to taxes skyrockets, and the ratio on the left falls as saturation of assets makes the distribution more equal?\n",
    "\n",
    "Oh snap, for eis=0.8 there are two intersections, that's awkward! Huh, there are multiple intersections in a lot of cases, it seems? Weird. But what is going on with my code? It seems to depend on the order in which it's run a bit?"
   ]
  }
 ],
 "metadata": {
  "kernelspec": {
   "display_name": "Python [conda env:root] *",
   "language": "python",
   "name": "conda-root-py"
  },
  "language_info": {
   "codemirror_mode": {
    "name": "ipython",
    "version": 3
   },
   "file_extension": ".py",
   "mimetype": "text/x-python",
   "name": "python",
   "nbconvert_exporter": "python",
   "pygments_lexer": "ipython3",
   "version": "3.7.4"
  }
 },
 "nbformat": 4,
 "nbformat_minor": 4
}
